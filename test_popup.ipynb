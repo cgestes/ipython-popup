{
 "cells": [
  {
   "cell_type": "code",
   "execution_count": 5,
   "metadata": {
    "collapsed": false
   },
   "outputs": [],
   "source": [
    "from IPython.html import widgets\n",
    "widget1 = widgets.FloatSlider(value=42)\n",
    "widget1"
   ]
  },
  {
   "cell_type": "code",
   "execution_count": 4,
   "metadata": {
    "collapsed": false
   },
   "outputs": [],
   "source": [
    "# code run in the popup window. (uncomment to try it here)\n",
    "\n",
    "# from IPython.html import widgets\n",
    "# from IPython.utils.traitlets import link\n",
    "# widget2 = widgets.FloatSlider(value=42)\n",
    "# mylink = link((widget1, 'value'), (widget2, 'value'))\n",
    "# widget2\n"
   ]
  }
 ],
 "metadata": {
  "kernelspec": {
   "display_name": "Python 2",
   "language": "python",
   "name": "python2"
  },
  "language_info": {
   "codemirror_mode": {
    "name": "ipython",
    "version": 2
   },
   "file_extension": ".py",
   "mimetype": "text/x-python",
   "name": "python",
   "nbconvert_exporter": "python",
   "pygments_lexer": "ipython2",
   "version": "2.7.9"
  }
 },
 "nbformat": 4,
 "nbformat_minor": 0
}
